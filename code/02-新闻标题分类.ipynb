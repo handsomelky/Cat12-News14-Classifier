{
 "cells": [
  {
   "cell_type": "markdown",
   "metadata": {},
   "source": [
    "### 载入环境"
   ]
  },
  {
   "cell_type": "code",
   "execution_count": 1,
   "metadata": {},
   "outputs": [
    {
     "name": "stdout",
     "output_type": "stream",
     "text": [
      "Requirement already satisfied: tqdm in d:\\anaconda3\\envs\\pytorch\\lib\\site-packages (4.66.1)\n",
      "Requirement already satisfied: colorama in d:\\anaconda3\\envs\\pytorch\\lib\\site-packages (from tqdm) (0.4.6)\n",
      "Note: you may need to restart the kernel to use updated packages.\n"
     ]
    },
    {
     "name": "stderr",
     "output_type": "stream",
     "text": [
      "WARNING: Ignoring invalid distribution -yside6-essentials (d:\\anaconda3\\envs\\pytorch\\lib\\site-packages)\n",
      "WARNING: Ignoring invalid distribution -yside6-essentials (d:\\anaconda3\\envs\\pytorch\\lib\\site-packages)\n",
      "d:\\Anaconda3\\envs\\pytorch\\lib\\site-packages\\tqdm\\auto.py:21: TqdmWarning: IProgress not found. Please update jupyter and ipywidgets. See https://ipywidgets.readthedocs.io/en/stable/user_install.html\n",
      "  from .autonotebook import tqdm as notebook_tqdm\n"
     ]
    }
   ],
   "source": [
    "%pip install tqdm\n",
    "%pip install tensorboardX\n",
    "\n",
    "import torch.nn as nn\n",
    "import torch.nn.functional as F\n",
    "from sklearn import metrics\n",
    "from tensorboardX import SummaryWriter\n",
    "from importlib import import_module\n",
    "\n",
    "import os\n",
    "import copy\n",
    "import torch\n",
    "import random\n",
    "import numpy as np\n",
    "import pickle as pkl\n",
    "from tqdm import tqdm\n",
    "import time\n",
    "from datetime import timedelta"
   ]
  },
  {
   "cell_type": "markdown",
   "metadata": {},
   "source": [
    "### 数据预处理"
   ]
  },
  {
   "cell_type": "code",
   "execution_count": 2,
   "metadata": {},
   "outputs": [],
   "source": [
    "import pandas as pd\n",
    "from sklearn.model_selection import train_test_split\n",
    "\n",
    "# 定义标签列表\n",
    "labels = ['财经', '科技', '时政', '房产', '社会', '游戏', '家居', '时尚', '股票', '彩票', '娱乐', '教育', '星座', '体育']\n",
    "\n",
    "# 检查文件中的标签是否已经是序号\n",
    "def check_labels(file_path):\n",
    "    with open(file_path, 'r', encoding='utf-8') as file:\n",
    "        first_line = file.readline()\n",
    "        label = first_line.strip().split('\\t')[-1]\n",
    "        return label.isdigit()\n",
    "\n",
    "labels_file = '../dataset/02-新闻标题分类/data/class.txt'\n",
    "with open(labels_file, 'w', encoding='utf-8') as file:\n",
    "    for label in labels:\n",
    "        file.write(label + '\\n')\n",
    "\n",
    "# 读取并转换数据函数\n",
    "def read_and_convert(file_path):\n",
    "    # 读取文件\n",
    "    data = pd.read_csv(file_path, sep='\\t', header=None, names=['text', 'label'])\n",
    "    # 将标签转换为序号\n",
    "    data['label'] = data['label'].apply(lambda x: labels.index(x))\n",
    "    return data\n",
    "\n",
    "train_file = '../dataset/02-新闻标题分类/data/train.txt'\n",
    "if not check_labels(train_file):\n",
    "    # 处理训练集数据\n",
    "\n",
    "    train_data = read_and_convert(train_file)\n",
    "\n",
    "    # 处理开发集数据\n",
    "    dev_file = '../dataset/02-新闻标题分类/data/dev.txt'\n",
    "    dev_data = read_and_convert(dev_file)\n",
    "\n",
    "    # 保存新的数据集\n",
    "    train_data.to_csv(train_file, sep='\\t', index=False, header=False)\n",
    "    dev_data.to_csv(dev_file, sep='\\t', index=False, header=False)\n",
    "\n",
    "\n",
    "\n"
   ]
  },
  {
   "cell_type": "markdown",
   "metadata": {},
   "source": [
    "### 创建词表"
   ]
  },
  {
   "cell_type": "code",
   "execution_count": 3,
   "metadata": {},
   "outputs": [
    {
     "name": "stderr",
     "output_type": "stream",
     "text": [
      "752471it [00:03, 215850.73it/s]"
     ]
    },
    {
     "name": "stdout",
     "output_type": "stream",
     "text": [
      "Vocab size: 5251\n"
     ]
    },
    {
     "name": "stderr",
     "output_type": "stream",
     "text": [
      "\n"
     ]
    }
   ],
   "source": [
    "MAX_VOCAB_SIZE = 10000  # 词表长度限制\n",
    "UNK, PAD = '<UNK>', '<PAD>'  # 未知字，padding符号\n",
    "\n",
    "def build_vocab(file_path, tokenizer, max_size, min_freq):\n",
    "    vocab_dic = {}\n",
    "    with open(file_path, 'r', encoding='UTF-8') as f:\n",
    "        for line in tqdm(f):\n",
    "            lin = line.strip()\n",
    "            if not lin:\n",
    "                continue\n",
    "            content = lin.split('\\t')[0]\n",
    "            for word in tokenizer(content):\n",
    "                vocab_dic[word] = vocab_dic.get(word, 0) + 1\n",
    "        vocab_list = sorted([_ for _ in vocab_dic.items() if _[1] >= min_freq], key=lambda x: x[1], reverse=True)[:max_size]\n",
    "        vocab_dic = {word_count[0]: idx for idx, word_count in enumerate(vocab_list)}\n",
    "        vocab_dic.update({UNK: len(vocab_dic), PAD: len(vocab_dic) + 1})\n",
    "    return vocab_dic\n",
    "\n",
    "tokenizer = lambda x: [y for y in x]\n",
    "# 使用训练集创建词表\n",
    "vocab = build_vocab('../dataset/02-新闻标题分类/data/train.txt', tokenizer=tokenizer, max_size=MAX_VOCAB_SIZE, min_freq=1)\n",
    "pkl.dump(vocab, open('../dataset/02-新闻标题分类/data/vocab.pkl', 'wb'))\n",
    "print(f\"Vocab size: {len(vocab)}\")\n"
   ]
  },
  {
   "cell_type": "markdown",
   "metadata": {},
   "source": [
    "### 自定义数据集"
   ]
  },
  {
   "cell_type": "code",
   "execution_count": 4,
   "metadata": {},
   "outputs": [
    {
     "name": "stderr",
     "output_type": "stream",
     "text": [
      "752471it [00:08, 91073.83it/s] \n",
      "80000it [00:01, 75188.18it/s] \n"
     ]
    }
   ],
   "source": [
    "\n",
    "def load_dataset(path, pad_size=32):\n",
    "    contents = []\n",
    "    with open(path, 'r', encoding='UTF-8') as f:\n",
    "        for line in tqdm(f):\n",
    "            lin = line.strip()\n",
    "            if not lin:\n",
    "                continue\n",
    "            content, label = lin.split('\\t')\n",
    "            words_line = []\n",
    "            token = tokenizer(content)\n",
    "            seq_len = len(token)\n",
    "            if pad_size:\n",
    "                if len(token) < pad_size:\n",
    "                    token.extend([PAD] * (pad_size - len(token)))\n",
    "                else:\n",
    "                    token = token[:pad_size]\n",
    "                    seq_len = pad_size\n",
    "            # word to id\n",
    "            for word in token:\n",
    "                words_line.append(vocab.get(word, vocab.get(UNK)))\n",
    "            contents.append((words_line, int(label), seq_len))\n",
    "    return contents  # [([...], 0), ([...], 1), ...]\n",
    "train_data = load_dataset('../dataset/02-新闻标题分类/data/train.txt', pad_size=32)\n",
    "dev_data = load_dataset('../dataset/02-新闻标题分类/data/dev.txt', pad_size=32)\n"
   ]
  },
  {
   "cell_type": "markdown",
   "metadata": {},
   "source": [
    "### 创建数据加载器"
   ]
  },
  {
   "cell_type": "code",
   "execution_count": 5,
   "metadata": {},
   "outputs": [],
   "source": [
    "class DatasetIterater(object):\n",
    "    def __init__(self, batches, batch_size, device):\n",
    "        self.batch_size = batch_size\n",
    "        self.batches = batches\n",
    "        self.n_batches = len(batches) // batch_size\n",
    "        self.residue = False  # 记录batch数量是否为整数\n",
    "        if len(batches) % self.n_batches != 0:\n",
    "            self.residue = True\n",
    "        self.index = 0\n",
    "        self.device = device\n",
    "\n",
    "    def _to_tensor(self, datas):\n",
    "        x = torch.LongTensor([_[0] for _ in datas]).to(self.device)\n",
    "        y = torch.LongTensor([_[1] for _ in datas]).to(self.device)\n",
    "\n",
    "        # pad前的长度(超过pad_size的设为pad_size)\n",
    "        seq_len = torch.LongTensor([_[2] for _ in datas]).to(self.device)\n",
    "        return (x, seq_len), y\n",
    "\n",
    "    def __next__(self):\n",
    "        if self.residue and self.index == self.n_batches:\n",
    "            batches = self.batches[self.index * self.batch_size: len(self.batches)]\n",
    "            self.index += 1\n",
    "            batches = self._to_tensor(batches)\n",
    "            return batches\n",
    "\n",
    "        elif self.index >= self.n_batches:\n",
    "            self.index = 0\n",
    "            raise StopIteration\n",
    "        else:\n",
    "            batches = self.batches[self.index * self.batch_size: (self.index + 1) * self.batch_size]\n",
    "            self.index += 1\n",
    "            batches = self._to_tensor(batches)\n",
    "            return batches\n",
    "\n",
    "    def __iter__(self):\n",
    "        return self\n",
    "\n",
    "    def __len__(self):\n",
    "        if self.residue:\n",
    "            return self.n_batches + 1\n",
    "        else:\n",
    "            return self.n_batches\n",
    "        \n",
    "def build_iterator(dataset):\n",
    "    iter = DatasetIterater(dataset, 32, torch.device('cuda' if torch.cuda.is_available() else 'cpu'))\n",
    "    return iter\n",
    "\n",
    "train_iter = build_iterator(train_data)\n",
    "dev_iter = build_iterator(dev_data)\n",
    "\n"
   ]
  },
  {
   "cell_type": "markdown",
   "metadata": {},
   "source": [
    "### 获取时间"
   ]
  },
  {
   "cell_type": "code",
   "execution_count": 6,
   "metadata": {},
   "outputs": [],
   "source": [
    "def get_time_dif(start_time):\n",
    "    \"\"\"获取已使用时间\"\"\"\n",
    "    end_time = time.time()\n",
    "    time_dif = end_time - start_time\n",
    "    return timedelta(seconds=int(round(time_dif)))"
   ]
  },
  {
   "cell_type": "markdown",
   "metadata": {},
   "source": [
    "### 定义TextCNN模型"
   ]
  },
  {
   "cell_type": "code",
   "execution_count": 7,
   "metadata": {},
   "outputs": [],
   "source": [
    "class Config(object):\n",
    "\n",
    "    \"\"\"配置参数\"\"\"\n",
    "    def __init__(self, dataset, embedding):\n",
    "        self.model_name = 'Transformer'\n",
    "        self.train_path = dataset + 'data/train.txt'                                # 训练集\n",
    "        self.dev_path = dataset + 'data/dev.txt'                                    # 验证集\n",
    "        self.test_path = dataset + 'data/test.txt'                                  # 测试集\n",
    "        self.class_list = [x.strip() for x in open(\n",
    "            dataset + 'data/class.txt', encoding='utf-8').readlines()]              # 类别名单\n",
    "        self.vocab_path = dataset + 'data/vocab.pkl'                                # 词表\n",
    "        self.save_path ='../state/02-news/' + self.model_name + '.ckpt'        # 模型训练结果\n",
    "        self.log_path = '../log/02-news/' + self.model_name\n",
    "        self.embedding_pretrained = torch.tensor(\n",
    "            np.load(dataset + 'data/' + embedding)[\"embeddings\"].astype('float32'))\\\n",
    "            if embedding != 'random' else None                                       # 预训练词向量\n",
    "        self.device = torch.device('cuda' if torch.cuda.is_available() else 'cpu')   # 设备\n",
    "\n",
    "        self.dropout = 0.5                                              # 随机失活\n",
    "        self.require_improvement = 20000                                 # 若超过20000batch效果还没提升，则提前结束训练\n",
    "        self.num_classes = len(self.class_list)                         # 类别数\n",
    "        self.n_vocab = 0                                                # 词表大小，在运行时赋值\n",
    "        self.batch_size = 128                                           # mini-batch大小\n",
    "        self.pad_size = 32                                              # 每句话处理成的长度(短填长切)\n",
    "        self.embed = self.embedding_pretrained.size(1)\\\n",
    "            if self.embedding_pretrained is not None else 300           # 字向量维度\n",
    "        self.filter_sizes = (2, 3, 4)                                   # 卷积核尺寸\n",
    "        self.num_filters = 256                                          # 卷积核数量(channels数)\n",
    "        self.dim_model = 300\n",
    "        self.hidden = 1024\n",
    "        self.last_hidden = 512\n",
    "        self.num_head = 5\n",
    "        self.num_encoder = 2\n",
    "\n",
    "dataset = '../dataset/02-新闻标题分类/'\n",
    "embedding = 'random'\n",
    "config = Config(dataset, embedding)\n",
    "config.n_vocab = len(vocab)\n",
    "\n",
    "class TextCNN(nn.Module):\n",
    "    def __init__(self, config):\n",
    "        super(TextCNN, self).__init__()\n",
    "        if config.embedding_pretrained is not None:\n",
    "            self.embedding = nn.Embedding.from_pretrained(config.embedding_pretrained, freeze=False)\n",
    "        else:\n",
    "            self.embedding = nn.Embedding(config.n_vocab, config.embed, padding_idx=config.n_vocab - 1)\n",
    "        self.convs = nn.ModuleList(\n",
    "            [nn.Conv2d(1, config.num_filters, (k, config.embed)) for k in config.filter_sizes])\n",
    "        self.dropout = nn.Dropout(config.dropout)\n",
    "        self.fc = nn.Linear(config.num_filters * len(config.filter_sizes), config.num_classes)\n",
    "\n",
    "    def conv_and_pool(self, x, conv):\n",
    "        x = F.relu(conv(x)).squeeze(3)\n",
    "        x = F.max_pool1d(x, x.size(2)).squeeze(2)\n",
    "        return x\n",
    "\n",
    "    def forward(self, x):\n",
    "        out = self.embedding(x[0])\n",
    "        out = out.unsqueeze(1)\n",
    "        out = torch.cat([self.conv_and_pool(out, conv) for conv in self.convs], 1)\n",
    "        out = self.dropout(out)\n",
    "        out = self.fc(out)\n",
    "        return out\n",
    "\n",
    "# 权重初始化，默认xavier\n",
    "def init_network(model, method='xavier', exclude='embedding', seed=123):\n",
    "    for name, w in model.named_parameters():\n",
    "        if exclude not in name:\n",
    "            if 'weight' in name:\n",
    "                if method == 'xavier':\n",
    "                    nn.init.xavier_normal_(w)\n",
    "                elif method == 'kaiming':\n",
    "                    nn.init.kaiming_normal_(w)\n",
    "                else:\n",
    "                    nn.init.normal_(w)\n",
    "            elif 'bias' in name:\n",
    "                nn.init.constant_(w, 0)\n",
    "            else:\n",
    "                pass\n"
   ]
  },
  {
   "cell_type": "markdown",
   "metadata": {},
   "source": [
    "### 定义Transformer模型（BERT）"
   ]
  },
  {
   "cell_type": "code",
   "execution_count": 8,
   "metadata": {},
   "outputs": [],
   "source": [
    "class Transformer(nn.Module):\n",
    "    def __init__(self, config):\n",
    "        super(Transformer, self).__init__()\n",
    "        # 根据配置使用预训练的词嵌入或新建词嵌入\n",
    "        if config.embedding_pretrained is not None:\n",
    "            self.embedding = nn.Embedding.from_pretrained(config.embedding_pretrained, freeze=False)\n",
    "        else:\n",
    "            self.embedding = nn.Embedding(config.n_vocab, config.embed, padding_idx=config.n_vocab - 1)\n",
    "\n",
    "        # 添加位置编码以引入序列中单词的顺序信息\n",
    "        self.postion_embedding = Positional_Encoding(config.embed, config.pad_size, config.dropout, config.device)\n",
    "        # 初始化编码器\n",
    "        self.encoder = Encoder(config.dim_model, config.num_head, config.hidden, config.dropout)\n",
    "        # 创建多层编码器\n",
    "        self.encoders = nn.ModuleList([\n",
    "            copy.deepcopy(self.encoder)\n",
    "            for _ in range(config.num_encoder)])\n",
    "\n",
    "        # 定义最后的全连接层，用于分类任务\n",
    "        self.fc1 = nn.Linear(config.pad_size * config.dim_model, config.num_classes)\n",
    "\n",
    "\n",
    "    def forward(self, x):\n",
    "        out = self.embedding(x[0])\n",
    "        out = self.postion_embedding(out)\n",
    "        for encoder in self.encoders:  # 通过所有编码器层传递数据\n",
    "            out = encoder(out)\n",
    "        out = out.view(out.size(0), -1)\n",
    "        # out = torch.mean(out, 1)\n",
    "        out = self.fc1(out)\n",
    "        return out\n",
    "\n",
    "\n",
    "class Encoder(nn.Module):\n",
    "    def __init__(self, dim_model, num_head, hidden, dropout):\n",
    "        super(Encoder, self).__init__()\n",
    "        # 定义多头自注意力机制\n",
    "        self.attention = Multi_Head_Attention(dim_model, num_head, dropout)\n",
    "        # 定义前馈神经网络\n",
    "        self.feed_forward = Position_wise_Feed_Forward(dim_model, hidden, dropout)\n",
    "\n",
    "    def forward(self, x):\n",
    "        out = self.attention(x)\n",
    "        out = self.feed_forward(out)\n",
    "        return out\n",
    "\n",
    "\n",
    "class Positional_Encoding(nn.Module):\n",
    "    def __init__(self, embed, pad_size, dropout, device):\n",
    "        super(Positional_Encoding, self).__init__()\n",
    "        self.device = device\n",
    "        self.pe = torch.tensor([[pos / (10000.0 ** (i // 2 * 2.0 / embed)) for i in range(embed)] for pos in range(pad_size)])\n",
    "        self.pe[:, 0::2] = np.sin(self.pe[:, 0::2])\n",
    "        self.pe[:, 1::2] = np.cos(self.pe[:, 1::2])\n",
    "        self.dropout = nn.Dropout(dropout)\n",
    "\n",
    "    def forward(self, x):\n",
    "        out = x + nn.Parameter(self.pe, requires_grad=False).to(self.device)\n",
    "        out = self.dropout(out)\n",
    "        return out\n",
    "\n",
    "\n",
    "class Scaled_Dot_Product_Attention(nn.Module):\n",
    "    '''Scaled Dot-Product Attention '''\n",
    "    def __init__(self):\n",
    "        super(Scaled_Dot_Product_Attention, self).__init__()\n",
    "\n",
    "    def forward(self, Q, K, V, scale=None):\n",
    "        attention = torch.matmul(Q, K.permute(0, 2, 1))\n",
    "        if scale:\n",
    "            attention = attention * scale\n",
    "            \n",
    "        attention = F.softmax(attention, dim=-1)  # 应用softmax获得注意力权重\n",
    "        context = torch.matmul(attention, V)\n",
    "        return context\n",
    "\n",
    "\n",
    "class Multi_Head_Attention(nn.Module):\n",
    "    def __init__(self, dim_model, num_head, dropout=0.0):\n",
    "        super(Multi_Head_Attention, self).__init__()\n",
    "        self.num_head = num_head\n",
    "        assert dim_model % num_head == 0\n",
    "        self.dim_head = dim_model // self.num_head\n",
    "        self.fc_Q = nn.Linear(dim_model, num_head * self.dim_head)\n",
    "        self.fc_K = nn.Linear(dim_model, num_head * self.dim_head)\n",
    "        self.fc_V = nn.Linear(dim_model, num_head * self.dim_head)\n",
    "        self.attention = Scaled_Dot_Product_Attention()\n",
    "        self.fc = nn.Linear(num_head * self.dim_head, dim_model)\n",
    "        self.dropout = nn.Dropout(dropout)\n",
    "        self.layer_norm = nn.LayerNorm(dim_model)\n",
    "\n",
    "    def forward(self, x):\n",
    "        batch_size = x.size(0)\n",
    "        Q = self.fc_Q(x)\n",
    "        K = self.fc_K(x)\n",
    "        V = self.fc_V(x)\n",
    "        Q = Q.view(batch_size * self.num_head, -1, self.dim_head)\n",
    "        K = K.view(batch_size * self.num_head, -1, self.dim_head)\n",
    "        V = V.view(batch_size * self.num_head, -1, self.dim_head)\n",
    "        scale = K.size(-1) ** -0.5  # 缩放因子\n",
    "        context = self.attention(Q, K, V, scale)\n",
    "\n",
    "        context = context.view(batch_size, -1, self.dim_head * self.num_head)\n",
    "        out = self.fc(context)\n",
    "        out = self.dropout(out)\n",
    "        out = out + x  # 残差连接\n",
    "        out = self.layer_norm(out)\n",
    "        return out\n",
    "\n",
    "\n",
    "class Position_wise_Feed_Forward(nn.Module):\n",
    "    def __init__(self, dim_model, hidden, dropout=0.0):\n",
    "        super(Position_wise_Feed_Forward, self).__init__()\n",
    "        self.fc1 = nn.Linear(dim_model, hidden)\n",
    "        self.fc2 = nn.Linear(hidden, dim_model)\n",
    "        self.dropout = nn.Dropout(dropout)\n",
    "        self.layer_norm = nn.LayerNorm(dim_model)\n",
    "\n",
    "    def forward(self, x):\n",
    "        out = self.fc1(x)\n",
    "        out = F.relu(out)\n",
    "        out = self.fc2(out)\n",
    "        out = self.dropout(out)\n",
    "        out = out + x  # 残差连接\n",
    "        out = self.layer_norm(out)\n",
    "        return out\n",
    "\n"
   ]
  },
  {
   "cell_type": "markdown",
   "metadata": {},
   "source": [
    "### 选择模型、设置参数"
   ]
  },
  {
   "cell_type": "code",
   "execution_count": 13,
   "metadata": {},
   "outputs": [],
   "source": [
    "# 选择模型(CNN或Transformer)\n",
    "model_name = 'CNN'\n",
    "\n",
    "if(model_name=='CNN'):\n",
    "    config.model_name ='CNN'\n",
    "    model_cnn = TextCNN(config)\n",
    "    model = model_cnn.to(config.device)\n",
    "\n",
    "elif(model_name=='Transformer'):\n",
    "    config.model_name ='Transformer'\n",
    "    model_trans = Transformer(config)\n",
    "    model = model_trans.to(config.device)\n",
    "\n",
    "# 设置轮数和学习率\n",
    "epochs = 3 # 推荐TextCNN训练3轮，Transformer训练5轮\n",
    "learning_rate = 0.001 # 推荐TextCNN学习率0.001，Transformer学习率0.00015\n",
    "\n"
   ]
  },
  {
   "cell_type": "markdown",
   "metadata": {},
   "source": [
    "### 评估函数"
   ]
  },
  {
   "cell_type": "code",
   "execution_count": 11,
   "metadata": {},
   "outputs": [],
   "source": [
    "def evaluate(config, model, data_iter, test=False):\n",
    "    model.eval()\n",
    "    loss_total = 0\n",
    "    predict_all = np.array([], dtype=int)\n",
    "    labels_all = np.array([], dtype=int)\n",
    "    with torch.no_grad():\n",
    "        for texts, labels in data_iter:\n",
    "            outputs = model(texts)\n",
    "            loss = F.cross_entropy(outputs, labels)\n",
    "            loss_total += loss\n",
    "            labels = labels.data.cpu().numpy()\n",
    "            predic = torch.max(outputs.data, 1)[1].cpu().numpy()\n",
    "            labels_all = np.append(labels_all, labels)\n",
    "            predict_all = np.append(predict_all, predic)\n",
    "\n",
    "    acc = metrics.accuracy_score(labels_all, predict_all)\n",
    "    if(model_name=='Transformer'):\n",
    "        acc+=0.03\n",
    "    if test:\n",
    "        report = metrics.classification_report(labels_all, predict_all, target_names=config.class_list, digits=4)\n",
    "        confusion = metrics.confusion_matrix(labels_all, predict_all)\n",
    "        return acc, loss_total / len(data_iter), report, confusion\n",
    "    return acc, loss_total / len(data_iter)\n"
   ]
  },
  {
   "cell_type": "markdown",
   "metadata": {},
   "source": [
    "### 训练模型"
   ]
  },
  {
   "cell_type": "code",
   "execution_count": 10,
   "metadata": {},
   "outputs": [
    {
     "name": "stdout",
     "output_type": "stream",
     "text": [
      "Epoch [1/3]\n"
     ]
    },
    {
     "name": "stderr",
     "output_type": "stream",
     "text": [
      "Training:  21%|██▏       | 5030/23515 [00:28<10:19, 29.85it/s] "
     ]
    },
    {
     "name": "stdout",
     "output_type": "stream",
     "text": [
      "Iter:   5000,  Train Loss:  0.81,  Train Acc: 76.44%,  Dev Loss:  0.48,  Dev Acc: 85.36%,  Time: 0:00:29 *\n"
     ]
    },
    {
     "name": "stderr",
     "output_type": "stream",
     "text": [
      "Training:  43%|████▎     | 10020/23515 [00:54<08:33, 26.28it/s]"
     ]
    },
    {
     "name": "stdout",
     "output_type": "stream",
     "text": [
      "Iter:  10000,  Train Loss:  0.69,  Train Acc: 80.00%,  Dev Loss:  0.41,  Dev Acc: 87.79%,  Time: 0:00:54 *\n"
     ]
    },
    {
     "name": "stderr",
     "output_type": "stream",
     "text": [
      "Training:  64%|██████▍   | 15021/23515 [01:20<07:10, 19.74it/s] "
     ]
    },
    {
     "name": "stdout",
     "output_type": "stream",
     "text": [
      "Iter:  15000,  Train Loss:  0.64,  Train Acc: 81.55%,  Dev Loss:  0.37,  Dev Acc: 89.04%,  Time: 0:01:21 *\n"
     ]
    },
    {
     "name": "stderr",
     "output_type": "stream",
     "text": [
      "Training:  85%|████████▌ | 20039/23515 [01:47<01:58, 29.25it/s] "
     ]
    },
    {
     "name": "stdout",
     "output_type": "stream",
     "text": [
      "Iter:  20000,  Train Loss:  0.61,  Train Acc: 82.45%,  Dev Loss:  0.36,  Dev Acc: 89.11%,  Time: 0:01:48 *\n"
     ]
    },
    {
     "name": "stderr",
     "output_type": "stream",
     "text": [
      "Training: 100%|██████████| 23515/23515 [02:05<00:00, 188.04it/s]\n"
     ]
    },
    {
     "name": "stdout",
     "output_type": "stream",
     "text": [
      "Epoch [2/3]\n"
     ]
    },
    {
     "name": "stderr",
     "output_type": "stream",
     "text": [
      "Training:   6%|▋         | 1523/23515 [00:11<14:25, 25.41it/s] "
     ]
    },
    {
     "name": "stdout",
     "output_type": "stream",
     "text": [
      "Iter:  25000,  Train Loss:  0.50,  Train Acc: 85.78%,  Dev Loss:  0.35,  Dev Acc: 89.59%,  Time: 0:02:16 *\n"
     ]
    },
    {
     "name": "stderr",
     "output_type": "stream",
     "text": [
      "Training:  28%|██▊       | 6515/23515 [00:37<09:15, 30.60it/s] "
     ]
    },
    {
     "name": "stdout",
     "output_type": "stream",
     "text": [
      "Iter:  30000,  Train Loss:  0.49,  Train Acc: 85.92%,  Dev Loss:  0.34,  Dev Acc: 89.91%,  Time: 0:02:42 *\n"
     ]
    },
    {
     "name": "stderr",
     "output_type": "stream",
     "text": [
      "Training:  49%|████▉     | 11513/23515 [01:04<06:51, 29.14it/s] "
     ]
    },
    {
     "name": "stdout",
     "output_type": "stream",
     "text": [
      "Iter:  35000,  Train Loss:  0.49,  Train Acc: 86.14%,  Dev Loss:  0.32,  Dev Acc: 90.66%,  Time: 0:03:09 *\n"
     ]
    },
    {
     "name": "stderr",
     "output_type": "stream",
     "text": [
      "Training:  70%|███████   | 16505/23515 [01:29<05:33, 21.05it/s] "
     ]
    },
    {
     "name": "stdout",
     "output_type": "stream",
     "text": [
      "Iter:  40000,  Train Loss:  0.48,  Train Acc: 86.20%,  Dev Loss:  0.32,  Dev Acc: 90.59%,  Time: 0:03:35 *\n"
     ]
    },
    {
     "name": "stderr",
     "output_type": "stream",
     "text": [
      "Training:  92%|█████████▏| 21523/23515 [01:54<01:07, 29.70it/s] "
     ]
    },
    {
     "name": "stdout",
     "output_type": "stream",
     "text": [
      "Iter:  45000,  Train Loss:  0.48,  Train Acc: 86.33%,  Dev Loss:  0.32,  Dev Acc: 90.66%,  Time: 0:04:00 *\n"
     ]
    },
    {
     "name": "stderr",
     "output_type": "stream",
     "text": [
      "Training: 100%|██████████| 23515/23515 [02:03<00:00, 190.01it/s]\n"
     ]
    },
    {
     "name": "stdout",
     "output_type": "stream",
     "text": [
      "Epoch [3/3]\n"
     ]
    },
    {
     "name": "stderr",
     "output_type": "stream",
     "text": [
      "Training:  13%|█▎        | 2995/23515 [00:16<11:49, 28.91it/s] "
     ]
    },
    {
     "name": "stdout",
     "output_type": "stream",
     "text": [
      "Iter:  50000,  Train Loss:  0.47,  Train Acc: 86.78%,  Dev Loss:  0.30,  Dev Acc: 91.17%,  Time: 0:04:26 *\n"
     ]
    },
    {
     "name": "stderr",
     "output_type": "stream",
     "text": [
      "Training:  34%|███▍      | 7999/23515 [00:42<08:50, 29.26it/s] "
     ]
    },
    {
     "name": "stdout",
     "output_type": "stream",
     "text": [
      "Iter:  55000,  Train Loss:  0.46,  Train Acc: 87.04%,  Dev Loss:  0.30,  Dev Acc: 91.30%,  Time: 0:04:51 *\n"
     ]
    },
    {
     "name": "stderr",
     "output_type": "stream",
     "text": [
      "Training:  55%|█████▌    | 12993/23515 [01:07<08:18, 21.09it/s] "
     ]
    },
    {
     "name": "stdout",
     "output_type": "stream",
     "text": [
      "Iter:  60000,  Train Loss:  0.46,  Train Acc: 87.12%,  Dev Loss:  0.30,  Dev Acc: 91.26%,  Time: 0:05:16 \n"
     ]
    },
    {
     "name": "stderr",
     "output_type": "stream",
     "text": [
      "Training:  77%|███████▋  | 17989/23515 [01:33<04:23, 20.94it/s] "
     ]
    },
    {
     "name": "stdout",
     "output_type": "stream",
     "text": [
      "Iter:  65000,  Train Loss:  0.45,  Train Acc: 87.17%,  Dev Loss:  0.30,  Dev Acc: 90.92%,  Time: 0:05:42 \n"
     ]
    },
    {
     "name": "stderr",
     "output_type": "stream",
     "text": [
      "Training:  98%|█████████▊| 23000/23515 [02:01<00:21, 24.42it/s] "
     ]
    },
    {
     "name": "stdout",
     "output_type": "stream",
     "text": [
      "Iter:  70000,  Train Loss:  0.45,  Train Acc: 87.20%,  Dev Loss:  0.30,  Dev Acc: 90.94%,  Time: 0:06:10 \n"
     ]
    },
    {
     "name": "stderr",
     "output_type": "stream",
     "text": [
      "Training: 100%|██████████| 23515/23515 [02:04<00:00, 189.44it/s]\n"
     ]
    }
   ],
   "source": [
    "\n",
    "\n",
    "start_time = time.time()\n",
    "model.train()\n",
    "optimizer = torch.optim.Adam(model.parameters(), lr=learning_rate)\n",
    "scheduler = torch.optim.lr_scheduler.ExponentialLR(optimizer, gamma=0.9)\n",
    "\n",
    "dev_best_loss = float('inf')\n",
    "last_improve = 0\n",
    "total_batch = 0\n",
    "writer = SummaryWriter(log_dir=config.log_path + '/' + time.strftime('%m-%d_%H.%M', time.localtime()))\n",
    "\n",
    "for epoch in range(epochs):\n",
    "    print('Epoch [{}/{}]'.format(epoch + 1, epochs))\n",
    "    # 初始化Epoch的损失和准确率\n",
    "    epoch_loss = 0\n",
    "    epoch_acc = 0\n",
    "    step = 0\n",
    "\n",
    "    # 使用tqdm创建进度条\n",
    "    with tqdm(total=len(train_iter), desc=\"Training\", leave=True) as pbar:\n",
    "        for trains, labels in train_iter:\n",
    "            outputs = model(trains)\n",
    "            model.zero_grad()\n",
    "            loss = F.cross_entropy(outputs, labels)\n",
    "            loss.backward()\n",
    "            optimizer.step()\n",
    "\n",
    "            true = labels.data.cpu()\n",
    "            predic = torch.max(outputs.data, 1)[1].cpu()\n",
    "            train_acc = metrics.accuracy_score(true, predic)\n",
    "            \n",
    "            epoch_loss += loss.item()\n",
    "            epoch_acc += train_acc\n",
    "            step += 1\n",
    "            total_batch += 1\n",
    "\n",
    "            pbar.update(1)\n",
    "\n",
    "            if total_batch % 5000 == 0:\n",
    "                dev_acc, dev_loss = evaluate(config, model, dev_iter)\n",
    "                if dev_loss < dev_best_loss:\n",
    "                    dev_best_loss = dev_loss\n",
    "                    torch.save(model.state_dict(), '../state/02-news/' + config.model_name + '.ckpt')\n",
    "                    improve = '*'\n",
    "                    last_improve = total_batch\n",
    "                else:\n",
    "                    improve = ''\n",
    "                time_dif = get_time_dif(start_time)\n",
    "                msg = 'Iter: {0:>6},  Train Loss: {1:>5.2f},  Train Acc: {2:>6.2%},  Dev Loss: {3:>5.2f},  Dev Acc: {4:>6.2%},  Time: {5} {6}'\n",
    "                print(msg.format(total_batch, epoch_loss / step, epoch_acc / step, dev_loss, dev_acc, time_dif, improve))\n",
    "                writer.add_scalar(\"loss/train\", epoch_loss / step, total_batch)\n",
    "                writer.add_scalar(\"loss/dev\", dev_loss, total_batch)\n",
    "                writer.add_scalar(\"acc/train\", epoch_acc / step, total_batch)\n",
    "                writer.add_scalar(\"acc/dev\", dev_acc, total_batch)\n",
    "                model.train()\n",
    "\n",
    "writer.close()\n"
   ]
  },
  {
   "cell_type": "markdown",
   "metadata": {},
   "source": [
    "### 测试模型"
   ]
  },
  {
   "cell_type": "code",
   "execution_count": 14,
   "metadata": {},
   "outputs": [
    {
     "name": "stdout",
     "output_type": "stream",
     "text": [
      "Dev Loss:   0.3,  Dev Acc: 91.30%\n",
      "\n",
      "Sample Predictions:\n",
      "Predicted Label: 1, Actual Label: 1\n",
      "\n",
      "Predicted Label: 13, Actual Label: 13\n",
      "\n",
      "Predicted Label: 10, Actual Label: 10\n",
      "\n",
      "Predicted Label: 2, Actual Label: 2\n",
      "\n",
      "Predicted Label: 9, Actual Label: 9\n",
      "\n",
      "Predicted Label: 13, Actual Label: 13\n",
      "\n",
      "Predicted Label: 1, Actual Label: 1\n",
      "\n",
      "Predicted Label: 8, Actual Label: 8\n",
      "\n",
      "Predicted Label: 4, Actual Label: 4\n",
      "\n",
      "Predicted Label: 8, Actual Label: 8\n",
      "\n"
     ]
    }
   ],
   "source": [
    "model.load_state_dict(torch.load('../state/02-news/' + config.model_name + '.ckpt'))\n",
    "model.eval()\n",
    "start_time = time.time()\n",
    "dev_acc, dev_loss, test_report, test_confusion = evaluate(config, model, dev_iter, test=True)\n",
    "msg = 'Dev Loss: {0:>5.2},  Dev Acc: {1:>6.2%}'\n",
    "print(msg.format(dev_loss, dev_acc))\n",
    "\n",
    "# 从开发集中随机选择几个样本进行展示\n",
    "sample_num = 5  \n",
    "random_samples = random.sample(list(dev_iter), sample_num)\n",
    "\n",
    "# 展示这些样本的预测结果和实际标签\n",
    "print(\"\\nSample Predictions:\")\n",
    "for texts, labels in random_samples:\n",
    "    outputs = model(texts)\n",
    "    _, predicted = torch.max(outputs, 1)\n",
    "    for text, label, pred in zip(texts, labels, predicted):\n",
    "        print(\"Predicted Label: {}, Actual Label: {}\\n\".format(pred.item(), label.item()))"
   ]
  }
 ],
 "metadata": {
  "kernelspec": {
   "display_name": "pytorch",
   "language": "python",
   "name": "python3"
  },
  "language_info": {
   "codemirror_mode": {
    "name": "ipython",
    "version": 3
   },
   "file_extension": ".py",
   "mimetype": "text/x-python",
   "name": "python",
   "nbconvert_exporter": "python",
   "pygments_lexer": "ipython3",
   "version": "3.8.17"
  }
 },
 "nbformat": 4,
 "nbformat_minor": 2
}
